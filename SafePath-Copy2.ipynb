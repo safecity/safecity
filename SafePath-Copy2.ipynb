{
 "cells": [
  {
   "cell_type": "markdown",
   "metadata": {},
   "source": [
    "#SafePath\n",
    "This script finds the safest path between two points in the chicago dataset. The path is represented by blocks. "
   ]
  },
  {
   "cell_type": "code",
   "execution_count": 2,
   "metadata": {
    "collapsed": true
   },
   "outputs": [],
   "source": [
    "import matplotlib.pyplot as plt\n",
    "import numpy as np\n",
    "import csv\n",
    "from collections import defaultdict"
   ]
  },
  {
   "cell_type": "code",
   "execution_count": 3,
   "metadata": {
    "collapsed": true
   },
   "outputs": [],
   "source": [
    "probability = {}\n",
    "max_prob = 0\n",
    "with open('data/probabilities2.csv', 'r') as csvfile:\n",
    "    masterreader = csv.reader(csvfile)\n",
    "    for index, row in enumerate(masterreader):\n",
    "        if index > 0:\n",
    "            probability[(int(row[0]), int(row[1]))] = float(row[15])\n",
    "            p = float(row[15])\n",
    "            max_prob = max(p, max_prob)"
   ]
  },
  {
   "cell_type": "code",
   "execution_count": 4,
   "metadata": {
    "collapsed": false
   },
   "outputs": [
    {
     "data": {
      "text/plain": [
       "2.766"
      ]
     },
     "execution_count": 4,
     "metadata": {},
     "output_type": "execute_result"
    }
   ],
   "source": [
    "list(probability.items())[:10]\n",
    "max_prob"
   ]
  },
  {
   "cell_type": "code",
   "execution_count": 5,
   "metadata": {
    "collapsed": false
   },
   "outputs": [],
   "source": [
    "# Instead of creating a defaultdict, this function returns the probability of any \n",
    "# block and returns 0 if block not found\n",
    "def get_prob(x,y):\n",
    "    if (x,y) in probability:\n",
    "        return probability[(x,y)] * 100\n",
    "    return 0"
   ]
  },
  {
   "cell_type": "code",
   "execution_count": 69,
   "metadata": {
    "collapsed": false
   },
   "outputs": [],
   "source": [
    "def plotgraph(bottomleft, topright, suggestedpath=[]):\n",
    "    \"\"\"\n",
    "    Plots grid of the blocks from bottomleft to topright with the given probabilities\n",
    "    \"\"\"\n",
    "\n",
    "    nrows = topright[1] - bottomleft[1]+1\n",
    "    ncols = topright[0] - bottomleft[0]+1\n",
    "    image = np.zeros(nrows*ncols)\n",
    "    image = image.reshape((nrows, ncols))\n",
    "    \n",
    "    for x in range(0, nrows):\n",
    "        for y in range(0, ncols):\n",
    "            row = bottomleft[1] + x\n",
    "            col = bottomleft[0] + y\n",
    "            # Get the probability for row and col\n",
    "            #print(col, row)\n",
    "            if((col,row) in suggestedpath):\n",
    "                #plt.text(x, y, c, va='center', ha='center')\n",
    "                image[x][y] = np.nan\n",
    "            else:\n",
    "                image[x][y] = get_prob(col, row)\n",
    "            #print(col, row, get_prob(col,row))\n",
    "            #print(image[x][y])\n",
    "    \n",
    "    row_labels = [bottomleft[1] +nrows - x for x in range(0, nrows)]\n",
    "    col_labels = [bottomleft[0] + x for x in range(0, ncols)]\n",
    "    plt.imshow(image, interpolation='nearest', vmin=0, vmax=1)\n",
    "    \n",
    "    plt.xticks(range(ncols), col_labels,rotation='vertical')\n",
    "    plt.yticks(range(nrows), row_labels)\n",
    "    plt.show()"
   ]
  },
  {
   "cell_type": "code",
   "execution_count": 70,
   "metadata": {
    "collapsed": false
   },
   "outputs": [
    {
     "data": {
      "image/png": "[encoded data removed]",
      "text/plain": [
       "<matplotlib.figure.Figure at 0x7f1f0bb90048>"
      ]
     },
     "metadata": {},
     "output_type": "display_data"
    }
   ],
   "source": [
    "#plotgraph((600,590), (640,610),[(1,1),(1,2)])"
   ]
  },
  {
   "cell_type": "code",
   "execution_count": null,
   "metadata": {
    "collapsed": true
   },
   "outputs": [],
   "source": []
  }
 ],
 "metadata": {
  "kernelspec": {
   "display_name": "Python 3",
   "language": "python",
   "name": "python3"
  },
  "language_info": {
   "codemirror_mode": {
    "name": "ipython",
    "version": 3
   },
   "file_extension": ".py",
   "mimetype": "text/x-python",
   "name": "python",
   "nbconvert_exporter": "python",
   "pygments_lexer": "ipython3",
   "version": "3.5.2"
  }
 },
 "nbformat": 4,
 "nbformat_minor": 2
}
